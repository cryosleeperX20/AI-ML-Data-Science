{
 "cells": [
  {
   "cell_type": "markdown",
   "id": "4ae3d468",
   "metadata": {},
   "source": [
    "# It is a Regression Problem"
   ]
  },
  {
   "cell_type": "markdown",
   "id": "258776f0",
   "metadata": {},
   "source": [
    "We are doing the machine learning on house price dataset."
   ]
  },
  {
   "cell_type": "markdown",
   "id": "4c003fd9",
   "metadata": {},
   "source": [
    "<table align=\"center\" width=100%>\n",
    "    <tr>\n",
    "        </td>\n",
    "            </td>\n",
    "        </td>\n",
    "        <td>\n",
    "            <div align=\"center\">\n",
    "                 <font color=\"#21618C\" size=8px>\n",
    "                     <b> Regression modeling on House Price Data\n",
    "                     </b>\n",
    "                 </font>\n",
    "             </div>\n",
    "          </td>\n",
    "      </tr>\n",
    "</table>"
   ]
  },
  {
   "cell_type": "markdown",
   "id": "196a5e87",
   "metadata": {},
   "source": [
    "# Problem Statement\n",
    "This dataset is created for the prediction of House Prices from an Indian perspective Towns. The dataset contains various features that are important during the application for the selling the Houses. The predicted output obtained from the classification algorithm gives a fair idea about the chances of a Houses Sold."
   ]
  },
  {
   "cell_type": "code",
   "execution_count": 4,
   "id": "f792031d",
   "metadata": {},
   "outputs": [],
   "source": [
    "# import 'Pandas' panadas is utilised to format the data structure it means it can convert any data structure into pandas dataframee\n",
    "import pandas as pd\n",
    "\n",
    "# import 'numpy' to find statsistical summary we use \n",
    "import numpy as np\n",
    "\n",
    "# import 'subpackage of Matplotlib'\n",
    "import matplotlib.pyplot as plt\n",
    "from matplotlib.colors import ListedColormap\n",
    "\n",
    "# import 'Seaborn'\n",
    "import seaborn as sns"
   ]
  },
  {
   "cell_type": "markdown",
   "id": "e4a8c19b",
   "metadata": {},
   "source": [
    " ##  LOAD THE DATASET\n"
   ]
  },
  {
   "cell_type": "code",
   "execution_count": 8,
   "id": "2ec8031e",
   "metadata": {},
   "outputs": [],
   "source": [
    "# load the 7 name it df_house_price\n",
    "import pandas as pd "
   ]
  },
  {
   "cell_type": "code",
   "execution_count": 9,
   "id": "da54b154",
   "metadata": {},
   "outputs": [],
   "source": [
    "df_house_price = pd.read_csv(\"House_Price1.csv\")"
   ]
  },
  {
   "cell_type": "code",
   "execution_count": 10,
   "id": "a64a1e48",
   "metadata": {},
   "outputs": [
    {
     "data": {
      "text/html": [
       "<div>\n",
       "<style scoped>\n",
       "    .dataframe tbody tr th:only-of-type {\n",
       "        vertical-align: middle;\n",
       "    }\n",
       "\n",
       "    .dataframe tbody tr th {\n",
       "        vertical-align: top;\n",
       "    }\n",
       "\n",
       "    .dataframe thead th {\n",
       "        text-align: right;\n",
       "    }\n",
       "</style>\n",
       "<table border=\"1\" class=\"dataframe\">\n",
       "  <thead>\n",
       "    <tr style=\"text-align: right;\">\n",
       "      <th></th>\n",
       "      <th>price</th>\n",
       "      <th>resid_area</th>\n",
       "      <th>air_qual</th>\n",
       "      <th>room_num</th>\n",
       "      <th>age</th>\n",
       "      <th>distance</th>\n",
       "      <th>teachers</th>\n",
       "      <th>poor_prop</th>\n",
       "      <th>airport</th>\n",
       "      <th>n_hos_beds</th>\n",
       "      <th>n_hot_rooms</th>\n",
       "      <th>waterbody</th>\n",
       "      <th>rainfall</th>\n",
       "      <th>bus_ter</th>\n",
       "      <th>parks</th>\n",
       "      <th>Sold</th>\n",
       "    </tr>\n",
       "  </thead>\n",
       "  <tbody>\n",
       "    <tr>\n",
       "      <th>0</th>\n",
       "      <td>24.0</td>\n",
       "      <td>32.31</td>\n",
       "      <td>0.538</td>\n",
       "      <td>6.575</td>\n",
       "      <td>65.2</td>\n",
       "      <td>4.35</td>\n",
       "      <td>24.7</td>\n",
       "      <td>4.98</td>\n",
       "      <td>YES</td>\n",
       "      <td>5.480</td>\n",
       "      <td>11.1920</td>\n",
       "      <td>River</td>\n",
       "      <td>23</td>\n",
       "      <td>YES</td>\n",
       "      <td>0.049347</td>\n",
       "      <td>0</td>\n",
       "    </tr>\n",
       "    <tr>\n",
       "      <th>1</th>\n",
       "      <td>21.6</td>\n",
       "      <td>37.07</td>\n",
       "      <td>0.469</td>\n",
       "      <td>6.421</td>\n",
       "      <td>78.9</td>\n",
       "      <td>4.99</td>\n",
       "      <td>22.2</td>\n",
       "      <td>9.14</td>\n",
       "      <td>NO</td>\n",
       "      <td>7.332</td>\n",
       "      <td>12.1728</td>\n",
       "      <td>Lake</td>\n",
       "      <td>42</td>\n",
       "      <td>YES</td>\n",
       "      <td>0.046146</td>\n",
       "      <td>1</td>\n",
       "    </tr>\n",
       "    <tr>\n",
       "      <th>2</th>\n",
       "      <td>34.7</td>\n",
       "      <td>37.07</td>\n",
       "      <td>0.469</td>\n",
       "      <td>7.185</td>\n",
       "      <td>61.1</td>\n",
       "      <td>5.03</td>\n",
       "      <td>22.2</td>\n",
       "      <td>4.03</td>\n",
       "      <td>NO</td>\n",
       "      <td>7.394</td>\n",
       "      <td>101.1200</td>\n",
       "      <td>NaN</td>\n",
       "      <td>38</td>\n",
       "      <td>YES</td>\n",
       "      <td>0.045764</td>\n",
       "      <td>0</td>\n",
       "    </tr>\n",
       "    <tr>\n",
       "      <th>3</th>\n",
       "      <td>33.4</td>\n",
       "      <td>32.18</td>\n",
       "      <td>0.458</td>\n",
       "      <td>6.998</td>\n",
       "      <td>45.8</td>\n",
       "      <td>6.21</td>\n",
       "      <td>21.3</td>\n",
       "      <td>2.94</td>\n",
       "      <td>YES</td>\n",
       "      <td>9.268</td>\n",
       "      <td>11.2672</td>\n",
       "      <td>Lake</td>\n",
       "      <td>45</td>\n",
       "      <td>YES</td>\n",
       "      <td>0.047151</td>\n",
       "      <td>0</td>\n",
       "    </tr>\n",
       "    <tr>\n",
       "      <th>4</th>\n",
       "      <td>36.2</td>\n",
       "      <td>32.18</td>\n",
       "      <td>0.458</td>\n",
       "      <td>7.147</td>\n",
       "      <td>54.2</td>\n",
       "      <td>6.16</td>\n",
       "      <td>21.3</td>\n",
       "      <td>5.33</td>\n",
       "      <td>NO</td>\n",
       "      <td>8.824</td>\n",
       "      <td>11.2896</td>\n",
       "      <td>Lake</td>\n",
       "      <td>55</td>\n",
       "      <td>YES</td>\n",
       "      <td>0.039474</td>\n",
       "      <td>0</td>\n",
       "    </tr>\n",
       "  </tbody>\n",
       "</table>\n",
       "</div>"
      ],
      "text/plain": [
       "   price  resid_area  air_qual  room_num   age  distance  teachers  poor_prop  \\\n",
       "0   24.0       32.31     0.538     6.575  65.2      4.35      24.7       4.98   \n",
       "1   21.6       37.07     0.469     6.421  78.9      4.99      22.2       9.14   \n",
       "2   34.7       37.07     0.469     7.185  61.1      5.03      22.2       4.03   \n",
       "3   33.4       32.18     0.458     6.998  45.8      6.21      21.3       2.94   \n",
       "4   36.2       32.18     0.458     7.147  54.2      6.16      21.3       5.33   \n",
       "\n",
       "  airport  n_hos_beds  n_hot_rooms waterbody  rainfall bus_ter     parks  Sold  \n",
       "0     YES       5.480      11.1920     River        23     YES  0.049347     0  \n",
       "1      NO       7.332      12.1728      Lake        42     YES  0.046146     1  \n",
       "2      NO       7.394     101.1200       NaN        38     YES  0.045764     0  \n",
       "3     YES       9.268      11.2672      Lake        45     YES  0.047151     0  \n",
       "4      NO       8.824      11.2896      Lake        55     YES  0.039474     0  "
      ]
     },
     "execution_count": 10,
     "metadata": {},
     "output_type": "execute_result"
    }
   ],
   "source": [
    "df_house_price.head()"
   ]
  },
  {
   "cell_type": "markdown",
   "id": "e3430077",
   "metadata": {},
   "source": [
    "## Data Overview"
   ]
  },
  {
   "cell_type": "code",
   "execution_count": 11,
   "id": "972cc18b",
   "metadata": {},
   "outputs": [
    {
     "data": {
      "text/plain": [
       "Index(['price', 'resid_area', 'air_qual', 'room_num', 'age', 'distance',\n",
       "       'teachers', 'poor_prop', 'airport', 'n_hos_beds', 'n_hot_rooms',\n",
       "       'waterbody', 'rainfall', 'bus_ter', 'parks', 'Sold'],\n",
       "      dtype='object')"
      ]
     },
     "execution_count": 11,
     "metadata": {},
     "output_type": "execute_result"
    }
   ],
   "source": [
    "# Name the Columns\n",
    "df_house_price.columns"
   ]
  },
  {
   "cell_type": "markdown",
   "id": "1f726ab2",
   "metadata": {},
   "source": [
    "**Interpretation**\n",
    "\n",
    " - `Price`: Price of the house.\n",
    " - `resid_area` : Residential Area where my house is located.\n",
    " - `air_qual` : Air Quality of my area."
   ]
  },
  {
   "cell_type": "code",
   "execution_count": 12,
   "id": "a0cadf54",
   "metadata": {},
   "outputs": [
    {
     "name": "stdout",
     "output_type": "stream",
     "text": [
      "<class 'pandas.core.frame.DataFrame'>\n",
      "RangeIndex: 506 entries, 0 to 505\n",
      "Data columns (total 16 columns):\n",
      " #   Column       Non-Null Count  Dtype  \n",
      "---  ------       --------------  -----  \n",
      " 0   price        506 non-null    float64\n",
      " 1   resid_area   506 non-null    float64\n",
      " 2   air_qual     506 non-null    float64\n",
      " 3   room_num     506 non-null    float64\n",
      " 4   age          506 non-null    float64\n",
      " 5   distance     506 non-null    float64\n",
      " 6   teachers     506 non-null    float64\n",
      " 7   poor_prop    506 non-null    float64\n",
      " 8   airport      506 non-null    object \n",
      " 9   n_hos_beds   498 non-null    float64\n",
      " 10  n_hot_rooms  506 non-null    float64\n",
      " 11  waterbody    351 non-null    object \n",
      " 12  rainfall     506 non-null    int64  \n",
      " 13  bus_ter      506 non-null    object \n",
      " 14  parks        506 non-null    float64\n",
      " 15  Sold         506 non-null    int64  \n",
      "dtypes: float64(11), int64(2), object(3)\n",
      "memory usage: 63.4+ KB\n"
     ]
    }
   ],
   "source": [
    "# Basic Info of the Dataset\n",
    "df_house_price.info()"
   ]
  },
  {
   "cell_type": "markdown",
   "id": "0a9b17f6",
   "metadata": {},
   "source": [
    "**Interpretation**\n",
    "\n",
    " - We have 13 Numerical columns & 3 categorical column\n",
    " - We have NULL values in the data \n",
    " - We have total 16 columns in the data"
   ]
  },
  {
   "cell_type": "code",
   "execution_count": 13,
   "id": "52f768a4",
   "metadata": {},
   "outputs": [
    {
     "data": {
      "text/plain": [
       "(506, 16)"
      ]
     },
     "execution_count": 13,
     "metadata": {},
     "output_type": "execute_result"
    }
   ],
   "source": [
    "# Shape of the data\n",
    "df_house_price.shape"
   ]
  },
  {
   "cell_type": "markdown",
   "id": "11ddd889",
   "metadata": {},
   "source": [
    "**Interpretations**\n",
    "\n",
    "- We have total 16 columns\n",
    "- We have total 506 observations/no. of rows"
   ]
  },
  {
   "cell_type": "code",
   "execution_count": 16,
   "id": "4cbdec8c",
   "metadata": {},
   "outputs": [
    {
     "data": {
      "text/html": [
       "<div>\n",
       "<style scoped>\n",
       "    .dataframe tbody tr th:only-of-type {\n",
       "        vertical-align: middle;\n",
       "    }\n",
       "\n",
       "    .dataframe tbody tr th {\n",
       "        vertical-align: top;\n",
       "    }\n",
       "\n",
       "    .dataframe thead th {\n",
       "        text-align: right;\n",
       "    }\n",
       "</style>\n",
       "<table border=\"1\" class=\"dataframe\">\n",
       "  <thead>\n",
       "    <tr style=\"text-align: right;\">\n",
       "      <th></th>\n",
       "      <th>count</th>\n",
       "      <th>mean</th>\n",
       "      <th>std</th>\n",
       "      <th>min</th>\n",
       "      <th>25%</th>\n",
       "      <th>50%</th>\n",
       "      <th>75%</th>\n",
       "      <th>max</th>\n",
       "    </tr>\n",
       "  </thead>\n",
       "  <tbody>\n",
       "    <tr>\n",
       "      <th>price</th>\n",
       "      <td>506.0</td>\n",
       "      <td>22.528854</td>\n",
       "      <td>9.182176</td>\n",
       "      <td>5.000000</td>\n",
       "      <td>17.025000</td>\n",
       "      <td>21.200000</td>\n",
       "      <td>25.000000</td>\n",
       "      <td>50.000000</td>\n",
       "    </tr>\n",
       "    <tr>\n",
       "      <th>resid_area</th>\n",
       "      <td>506.0</td>\n",
       "      <td>41.136779</td>\n",
       "      <td>6.860353</td>\n",
       "      <td>30.460000</td>\n",
       "      <td>35.190000</td>\n",
       "      <td>39.690000</td>\n",
       "      <td>48.100000</td>\n",
       "      <td>57.740000</td>\n",
       "    </tr>\n",
       "    <tr>\n",
       "      <th>air_qual</th>\n",
       "      <td>506.0</td>\n",
       "      <td>0.554695</td>\n",
       "      <td>0.115878</td>\n",
       "      <td>0.385000</td>\n",
       "      <td>0.449000</td>\n",
       "      <td>0.538000</td>\n",
       "      <td>0.624000</td>\n",
       "      <td>0.871000</td>\n",
       "    </tr>\n",
       "    <tr>\n",
       "      <th>room_num</th>\n",
       "      <td>506.0</td>\n",
       "      <td>6.284634</td>\n",
       "      <td>0.702617</td>\n",
       "      <td>3.561000</td>\n",
       "      <td>5.885500</td>\n",
       "      <td>6.208500</td>\n",
       "      <td>6.623500</td>\n",
       "      <td>8.780000</td>\n",
       "    </tr>\n",
       "    <tr>\n",
       "      <th>age</th>\n",
       "      <td>506.0</td>\n",
       "      <td>68.574901</td>\n",
       "      <td>28.148861</td>\n",
       "      <td>2.900000</td>\n",
       "      <td>45.025000</td>\n",
       "      <td>77.500000</td>\n",
       "      <td>94.075000</td>\n",
       "      <td>100.000000</td>\n",
       "    </tr>\n",
       "    <tr>\n",
       "      <th>distance</th>\n",
       "      <td>506.0</td>\n",
       "      <td>3.971996</td>\n",
       "      <td>2.108532</td>\n",
       "      <td>1.130000</td>\n",
       "      <td>2.270000</td>\n",
       "      <td>3.385000</td>\n",
       "      <td>5.367500</td>\n",
       "      <td>12.320000</td>\n",
       "    </tr>\n",
       "    <tr>\n",
       "      <th>teachers</th>\n",
       "      <td>506.0</td>\n",
       "      <td>21.544466</td>\n",
       "      <td>2.164946</td>\n",
       "      <td>18.000000</td>\n",
       "      <td>19.800000</td>\n",
       "      <td>20.950000</td>\n",
       "      <td>22.600000</td>\n",
       "      <td>27.400000</td>\n",
       "    </tr>\n",
       "    <tr>\n",
       "      <th>poor_prop</th>\n",
       "      <td>506.0</td>\n",
       "      <td>12.653063</td>\n",
       "      <td>7.141062</td>\n",
       "      <td>1.730000</td>\n",
       "      <td>6.950000</td>\n",
       "      <td>11.360000</td>\n",
       "      <td>16.955000</td>\n",
       "      <td>37.970000</td>\n",
       "    </tr>\n",
       "    <tr>\n",
       "      <th>n_hos_beds</th>\n",
       "      <td>498.0</td>\n",
       "      <td>7.899767</td>\n",
       "      <td>1.476683</td>\n",
       "      <td>5.268000</td>\n",
       "      <td>6.634500</td>\n",
       "      <td>7.999000</td>\n",
       "      <td>9.088000</td>\n",
       "      <td>10.876000</td>\n",
       "    </tr>\n",
       "    <tr>\n",
       "      <th>n_hot_rooms</th>\n",
       "      <td>506.0</td>\n",
       "      <td>13.041605</td>\n",
       "      <td>5.238957</td>\n",
       "      <td>10.057600</td>\n",
       "      <td>11.189800</td>\n",
       "      <td>12.720000</td>\n",
       "      <td>14.170800</td>\n",
       "      <td>101.120000</td>\n",
       "    </tr>\n",
       "    <tr>\n",
       "      <th>rainfall</th>\n",
       "      <td>506.0</td>\n",
       "      <td>39.181818</td>\n",
       "      <td>12.513697</td>\n",
       "      <td>3.000000</td>\n",
       "      <td>28.000000</td>\n",
       "      <td>39.000000</td>\n",
       "      <td>50.000000</td>\n",
       "      <td>60.000000</td>\n",
       "    </tr>\n",
       "    <tr>\n",
       "      <th>parks</th>\n",
       "      <td>506.0</td>\n",
       "      <td>0.054454</td>\n",
       "      <td>0.010632</td>\n",
       "      <td>0.033292</td>\n",
       "      <td>0.046464</td>\n",
       "      <td>0.053507</td>\n",
       "      <td>0.061397</td>\n",
       "      <td>0.086711</td>\n",
       "    </tr>\n",
       "    <tr>\n",
       "      <th>Sold</th>\n",
       "      <td>506.0</td>\n",
       "      <td>0.454545</td>\n",
       "      <td>0.498422</td>\n",
       "      <td>0.000000</td>\n",
       "      <td>0.000000</td>\n",
       "      <td>0.000000</td>\n",
       "      <td>1.000000</td>\n",
       "      <td>1.000000</td>\n",
       "    </tr>\n",
       "  </tbody>\n",
       "</table>\n",
       "</div>"
      ],
      "text/plain": [
       "             count       mean        std        min        25%        50%  \\\n",
       "price        506.0  22.528854   9.182176   5.000000  17.025000  21.200000   \n",
       "resid_area   506.0  41.136779   6.860353  30.460000  35.190000  39.690000   \n",
       "air_qual     506.0   0.554695   0.115878   0.385000   0.449000   0.538000   \n",
       "room_num     506.0   6.284634   0.702617   3.561000   5.885500   6.208500   \n",
       "age          506.0  68.574901  28.148861   2.900000  45.025000  77.500000   \n",
       "distance     506.0   3.971996   2.108532   1.130000   2.270000   3.385000   \n",
       "teachers     506.0  21.544466   2.164946  18.000000  19.800000  20.950000   \n",
       "poor_prop    506.0  12.653063   7.141062   1.730000   6.950000  11.360000   \n",
       "n_hos_beds   498.0   7.899767   1.476683   5.268000   6.634500   7.999000   \n",
       "n_hot_rooms  506.0  13.041605   5.238957  10.057600  11.189800  12.720000   \n",
       "rainfall     506.0  39.181818  12.513697   3.000000  28.000000  39.000000   \n",
       "parks        506.0   0.054454   0.010632   0.033292   0.046464   0.053507   \n",
       "Sold         506.0   0.454545   0.498422   0.000000   0.000000   0.000000   \n",
       "\n",
       "                   75%         max  \n",
       "price        25.000000   50.000000  \n",
       "resid_area   48.100000   57.740000  \n",
       "air_qual      0.624000    0.871000  \n",
       "room_num      6.623500    8.780000  \n",
       "age          94.075000  100.000000  \n",
       "distance      5.367500   12.320000  \n",
       "teachers     22.600000   27.400000  \n",
       "poor_prop    16.955000   37.970000  \n",
       "n_hos_beds    9.088000   10.876000  \n",
       "n_hot_rooms  14.170800  101.120000  \n",
       "rainfall     50.000000   60.000000  \n",
       "parks         0.061397    0.086711  \n",
       "Sold          1.000000    1.000000  "
      ]
     },
     "execution_count": 16,
     "metadata": {},
     "output_type": "execute_result"
    }
   ],
   "source": [
    "# Summarise the basic statistics of the data\n",
    "df_house_price.describe().T"
   ]
  },
  {
   "cell_type": "markdown",
   "id": "e7818084",
   "metadata": {},
   "source": [
    "**Interpretation**\n",
    "\n",
    " - We have outliers in the data, most of the outliers are in age column"
   ]
  },
  {
   "cell_type": "markdown",
   "id": "7e96a830",
   "metadata": {},
   "source": [
    "## Data Preprocessing\n"
   ]
  },
  {
   "cell_type": "markdown",
   "id": "dca9bdf5",
   "metadata": {},
   "source": [
    "### a.data cleaning"
   ]
  },
  {
   "cell_type": "code",
   "execution_count": 19,
   "id": "fa8f6cac",
   "metadata": {},
   "outputs": [
    {
     "data": {
      "text/html": [
       "<div>\n",
       "<style scoped>\n",
       "    .dataframe tbody tr th:only-of-type {\n",
       "        vertical-align: middle;\n",
       "    }\n",
       "\n",
       "    .dataframe tbody tr th {\n",
       "        vertical-align: top;\n",
       "    }\n",
       "\n",
       "    .dataframe thead th {\n",
       "        text-align: right;\n",
       "    }\n",
       "</style>\n",
       "<table border=\"1\" class=\"dataframe\">\n",
       "  <thead>\n",
       "    <tr style=\"text-align: right;\">\n",
       "      <th></th>\n",
       "      <th>price</th>\n",
       "      <th>resid_area</th>\n",
       "      <th>air_qual</th>\n",
       "      <th>room_num</th>\n",
       "      <th>age</th>\n",
       "      <th>distance</th>\n",
       "      <th>teachers</th>\n",
       "      <th>poor_prop</th>\n",
       "      <th>airport</th>\n",
       "      <th>n_hos_beds</th>\n",
       "      <th>n_hot_rooms</th>\n",
       "      <th>waterbody</th>\n",
       "      <th>rainfall</th>\n",
       "      <th>bus_ter</th>\n",
       "      <th>parks</th>\n",
       "      <th>Sold</th>\n",
       "    </tr>\n",
       "  </thead>\n",
       "  <tbody>\n",
       "    <tr>\n",
       "      <th>0</th>\n",
       "      <td>24.0</td>\n",
       "      <td>32.31</td>\n",
       "      <td>0.538</td>\n",
       "      <td>6.575</td>\n",
       "      <td>65.2</td>\n",
       "      <td>4.35</td>\n",
       "      <td>24.7</td>\n",
       "      <td>4.98</td>\n",
       "      <td>YES</td>\n",
       "      <td>5.480</td>\n",
       "      <td>11.1920</td>\n",
       "      <td>River</td>\n",
       "      <td>23</td>\n",
       "      <td>YES</td>\n",
       "      <td>0.049347</td>\n",
       "      <td>0</td>\n",
       "    </tr>\n",
       "    <tr>\n",
       "      <th>1</th>\n",
       "      <td>21.6</td>\n",
       "      <td>37.07</td>\n",
       "      <td>0.469</td>\n",
       "      <td>6.421</td>\n",
       "      <td>78.9</td>\n",
       "      <td>4.99</td>\n",
       "      <td>22.2</td>\n",
       "      <td>9.14</td>\n",
       "      <td>NO</td>\n",
       "      <td>7.332</td>\n",
       "      <td>12.1728</td>\n",
       "      <td>Lake</td>\n",
       "      <td>42</td>\n",
       "      <td>YES</td>\n",
       "      <td>0.046146</td>\n",
       "      <td>1</td>\n",
       "    </tr>\n",
       "    <tr>\n",
       "      <th>2</th>\n",
       "      <td>34.7</td>\n",
       "      <td>37.07</td>\n",
       "      <td>0.469</td>\n",
       "      <td>7.185</td>\n",
       "      <td>61.1</td>\n",
       "      <td>5.03</td>\n",
       "      <td>22.2</td>\n",
       "      <td>4.03</td>\n",
       "      <td>NO</td>\n",
       "      <td>7.394</td>\n",
       "      <td>101.1200</td>\n",
       "      <td>NaN</td>\n",
       "      <td>38</td>\n",
       "      <td>YES</td>\n",
       "      <td>0.045764</td>\n",
       "      <td>0</td>\n",
       "    </tr>\n",
       "    <tr>\n",
       "      <th>3</th>\n",
       "      <td>33.4</td>\n",
       "      <td>32.18</td>\n",
       "      <td>0.458</td>\n",
       "      <td>6.998</td>\n",
       "      <td>45.8</td>\n",
       "      <td>6.21</td>\n",
       "      <td>21.3</td>\n",
       "      <td>2.94</td>\n",
       "      <td>YES</td>\n",
       "      <td>9.268</td>\n",
       "      <td>11.2672</td>\n",
       "      <td>Lake</td>\n",
       "      <td>45</td>\n",
       "      <td>YES</td>\n",
       "      <td>0.047151</td>\n",
       "      <td>0</td>\n",
       "    </tr>\n",
       "    <tr>\n",
       "      <th>4</th>\n",
       "      <td>36.2</td>\n",
       "      <td>32.18</td>\n",
       "      <td>0.458</td>\n",
       "      <td>7.147</td>\n",
       "      <td>54.2</td>\n",
       "      <td>6.16</td>\n",
       "      <td>21.3</td>\n",
       "      <td>5.33</td>\n",
       "      <td>NO</td>\n",
       "      <td>8.824</td>\n",
       "      <td>11.2896</td>\n",
       "      <td>Lake</td>\n",
       "      <td>55</td>\n",
       "      <td>YES</td>\n",
       "      <td>0.039474</td>\n",
       "      <td>0</td>\n",
       "    </tr>\n",
       "  </tbody>\n",
       "</table>\n",
       "</div>"
      ],
      "text/plain": [
       "   price  resid_area  air_qual  room_num   age  distance  teachers  poor_prop  \\\n",
       "0   24.0       32.31     0.538     6.575  65.2      4.35      24.7       4.98   \n",
       "1   21.6       37.07     0.469     6.421  78.9      4.99      22.2       9.14   \n",
       "2   34.7       37.07     0.469     7.185  61.1      5.03      22.2       4.03   \n",
       "3   33.4       32.18     0.458     6.998  45.8      6.21      21.3       2.94   \n",
       "4   36.2       32.18     0.458     7.147  54.2      6.16      21.3       5.33   \n",
       "\n",
       "  airport  n_hos_beds  n_hot_rooms waterbody  rainfall bus_ter     parks  Sold  \n",
       "0     YES       5.480      11.1920     River        23     YES  0.049347     0  \n",
       "1      NO       7.332      12.1728      Lake        42     YES  0.046146     1  \n",
       "2      NO       7.394     101.1200       NaN        38     YES  0.045764     0  \n",
       "3     YES       9.268      11.2672      Lake        45     YES  0.047151     0  \n",
       "4      NO       8.824      11.2896      Lake        55     YES  0.039474     0  "
      ]
     },
     "execution_count": 19,
     "metadata": {},
     "output_type": "execute_result"
    }
   ],
   "source": [
    "# Show me first five Observation\n",
    "df_house_price.head()"
   ]
  },
  {
   "cell_type": "code",
   "execution_count": 22,
   "id": "95d59297",
   "metadata": {},
   "outputs": [
    {
     "data": {
      "text/plain": [
       "Index(['price', 'resid_area', 'air_qual', 'room_num', 'age', 'distance',\n",
       "       'teachers', 'poor_prop', 'airport', 'n_hos_beds', 'n_hot_rooms',\n",
       "       'waterbody', 'rainfall', 'bus_ter', 'parks', 'Sold'],\n",
       "      dtype='object')"
      ]
     },
     "execution_count": 22,
     "metadata": {},
     "output_type": "execute_result"
    }
   ],
   "source": [
    "# Rename the columns\n",
    "# Step 1 : Show the column names\n",
    "df_house_price.columns"
   ]
  },
  {
   "cell_type": "code",
   "execution_count": 26,
   "id": "883d691e",
   "metadata": {},
   "outputs": [],
   "source": [
    "# Step 2 : Allocate new column names to old column names\n",
    "# Make the dictionary {'Old column name':'New column name'}\n",
    "d1={'price':'Price',\n",
    "    'resid_area':'Residential_Area',\n",
    "    'air_qual':'Air_Quality',\n",
    "    'room_num':'Room_Number',\n",
    "    'age':'Age',\n",
    "    'distance':'Distance',\n",
    "    'teachers':'Teachers',\n",
    "    'poor_prop':'Proportion_of_poor_population',\n",
    "    'airport':'Airport',\n",
    "    'n_hos_beds':'Number_of_Hospital_beds',\n",
    "    'n_hot_rooms':'Number_of_hotel_Rooms',\n",
    "    'waterbody':'Waterbody',\n",
    "    'rainfall':'Rainfall',\n",
    "    'bus_ter':'Bus_Terminal',\n",
    "    'parks':'Parks',\n",
    "    'Sold':'SOLD'}"
   ]
  },
  {
   "cell_type": "code",
   "execution_count": 29,
   "id": "624bfe0a",
   "metadata": {},
   "outputs": [],
   "source": [
    "df_house_price = df_house_price.rename(columns=d1)"
   ]
  },
  {
   "cell_type": "code",
   "execution_count": 30,
   "id": "769736b2",
   "metadata": {},
   "outputs": [
    {
     "data": {
      "text/plain": [
       "Index(['Price', 'Residential_Area', 'Air_Quality', 'Room_Number', 'Age',\n",
       "       'Distance', 'Teachers', 'Proportion_of_poor_population', 'Airport',\n",
       "       'Number_of_Hospital_beds', 'Number_of_hotel_Rooms', 'Waterbody',\n",
       "       'Rainfall', 'Bus_Terminal', 'Parks', 'SOLD'],\n",
       "      dtype='object')"
      ]
     },
     "execution_count": 30,
     "metadata": {},
     "output_type": "execute_result"
    }
   ],
   "source": [
    "# Authenticate the Results\n",
    "df_house_price.columns"
   ]
  },
  {
   "cell_type": "markdown",
   "id": "be423e6a",
   "metadata": {},
   "source": [
    "### B.Null value Handling"
   ]
  },
  {
   "cell_type": "raw",
   "id": "b1fd73c8",
   "metadata": {},
   "source": [
    "Laws that we need to follow while processing the null values (specially for manufacturing)\n",
    " - When we have less than 15% data is missing -> Remove the observation\n",
    " - Between 20 to 70% data is missing -> Impute the null values\n",
    " - Greater than 75% data is missing -> Remove the column"
   ]
  },
  {
   "cell_type": "code",
   "execution_count": 32,
   "id": "d156728d",
   "metadata": {},
   "outputs": [
    {
     "data": {
      "text/plain": [
       "Price                              0\n",
       "Residential_Area                   0\n",
       "Air_Quality                        0\n",
       "Room_Number                        0\n",
       "Age                                0\n",
       "Distance                           0\n",
       "Teachers                           0\n",
       "Proportion_of_poor_population      0\n",
       "Airport                            0\n",
       "Number_of_Hospital_beds            8\n",
       "Number_of_hotel_Rooms              0\n",
       "Waterbody                        155\n",
       "Rainfall                           0\n",
       "Bus_Terminal                       0\n",
       "Parks                              0\n",
       "SOLD                               0\n",
       "dtype: int64"
      ]
     },
     "execution_count": 32,
     "metadata": {},
     "output_type": "execute_result"
    }
   ],
   "source": [
    "# Find the NULL values\n",
    "df_house_price.isnull().sum()"
   ]
  },
  {
   "cell_type": "code",
   "execution_count": 34,
   "id": "c0efd202",
   "metadata": {},
   "outputs": [
    {
     "data": {
      "text/plain": [
       "Price                             0.000\n",
       "Residential_Area                  0.000\n",
       "Air_Quality                       0.000\n",
       "Room_Number                       0.000\n",
       "Age                               0.000\n",
       "Distance                          0.000\n",
       "Teachers                          0.000\n",
       "Proportion_of_poor_population     0.000\n",
       "Airport                           0.000\n",
       "Number_of_Hospital_beds           1.581\n",
       "Number_of_hotel_Rooms             0.000\n",
       "Waterbody                        30.632\n",
       "Rainfall                          0.000\n",
       "Bus_Terminal                      0.000\n",
       "Parks                             0.000\n",
       "SOLD                              0.000\n",
       "dtype: float64"
      ]
     },
     "execution_count": 34,
     "metadata": {},
     "output_type": "execute_result"
    }
   ],
   "source": [
    "# Percentage missing value\n",
    "round((df_house_price.isnull().sum())/len(df_house_price)*100,3)"
   ]
  },
  {
   "cell_type": "code",
   "execution_count": 36,
   "id": "078fad05",
   "metadata": {},
   "outputs": [
    {
     "data": {
      "text/plain": [
       "<bound method DataFrame.info of      Price  Residential_Area  Air_Quality  Room_Number   Age  Distance  \\\n",
       "0     24.0             32.31        0.538        6.575  65.2      4.35   \n",
       "1     21.6             37.07        0.469        6.421  78.9      4.99   \n",
       "2     34.7             37.07        0.469        7.185  61.1      5.03   \n",
       "3     33.4             32.18        0.458        6.998  45.8      6.21   \n",
       "4     36.2             32.18        0.458        7.147  54.2      6.16   \n",
       "..     ...               ...          ...          ...   ...       ...   \n",
       "501   22.4             41.93        0.573        6.593  69.1      2.64   \n",
       "502   20.6             41.93        0.573        6.120  76.7      2.44   \n",
       "503   23.9             41.93        0.573        6.976  91.0      2.34   \n",
       "504   22.0             41.93        0.573        6.794  89.3      2.54   \n",
       "505   19.0             41.93        0.573        6.030  80.8      2.72   \n",
       "\n",
       "     Teachers  Proportion_of_poor_population Airport  Number_of_Hospital_beds  \\\n",
       "0        24.7                           4.98     YES                    5.480   \n",
       "1        22.2                           9.14      NO                    7.332   \n",
       "2        22.2                           4.03      NO                    7.394   \n",
       "3        21.3                           2.94     YES                    9.268   \n",
       "4        21.3                           5.33      NO                    8.824   \n",
       "..        ...                            ...     ...                      ...   \n",
       "501      19.0                           9.67      NO                    9.348   \n",
       "502      19.0                           9.08     YES                    6.612   \n",
       "503      19.0                           5.64      NO                    5.478   \n",
       "504      19.0                           6.48     YES                    7.940   \n",
       "505      19.0                           7.88     YES                   10.280   \n",
       "\n",
       "     Number_of_hotel_Rooms       Waterbody  Rainfall Bus_Terminal     Parks  \\\n",
       "0                  11.1920           River        23          YES  0.049347   \n",
       "1                  12.1728            Lake        42          YES  0.046146   \n",
       "2                 101.1200             NaN        38          YES  0.045764   \n",
       "3                  11.2672            Lake        45          YES  0.047151   \n",
       "4                  11.2896            Lake        55          YES  0.039474   \n",
       "..                     ...             ...       ...          ...       ...   \n",
       "501                12.1792  Lake and River        27          YES  0.056006   \n",
       "502                13.1648  Lake and River        20          YES  0.059903   \n",
       "503                12.1912             NaN        31          YES  0.057572   \n",
       "504                15.1760             NaN        47          YES  0.060694   \n",
       "505                10.1520             NaN        45          YES  0.060336   \n",
       "\n",
       "     SOLD  \n",
       "0       0  \n",
       "1       1  \n",
       "2       0  \n",
       "3       0  \n",
       "4       0  \n",
       "..    ...  \n",
       "501     1  \n",
       "502     1  \n",
       "503     1  \n",
       "504     1  \n",
       "505     1  \n",
       "\n",
       "[506 rows x 16 columns]>"
      ]
     },
     "execution_count": 36,
     "metadata": {},
     "output_type": "execute_result"
    }
   ],
   "source": [
    "# Find the nature of the column\n",
    "df_house_price.info"
   ]
  },
  {
   "cell_type": "code",
   "execution_count": 39,
   "id": "d9f3155f",
   "metadata": {},
   "outputs": [
    {
     "data": {
      "text/plain": [
       "0    River\n",
       "Name: Waterbody, dtype: object"
      ]
     },
     "execution_count": 39,
     "metadata": {},
     "output_type": "execute_result"
    }
   ],
   "source": [
    "# This is a categorical column so we can replace the null with mode\n",
    "df_house_price.Waterbody.mode()"
   ]
  },
  {
   "cell_type": "code",
   "execution_count": 41,
   "id": "749f74e3",
   "metadata": {},
   "outputs": [
    {
     "ename": "AttributeError",
     "evalue": "'DataFrame' object has no attribute 'Waterbody_House_Price1'",
     "output_type": "error",
     "traceback": [
      "\u001b[1;31m---------------------------------------------------------------------------\u001b[0m",
      "\u001b[1;31mAttributeError\u001b[0m                            Traceback (most recent call last)",
      "\u001b[1;32m~\\AppData\\Local\\Temp\\ipykernel_19844\\108748409.py\u001b[0m in \u001b[0;36m?\u001b[1;34m()\u001b[0m\n\u001b[0;32m      1\u001b[0m \u001b[1;31m# replace the null in thar column\u001b[0m\u001b[1;33m\u001b[0m\u001b[1;33m\u001b[0m\u001b[0m\n\u001b[1;32m----> 2\u001b[1;33m \u001b[0mdf_house_price\u001b[0m\u001b[1;33m.\u001b[0m\u001b[0mWaterbody_House_Price1\u001b[0m\u001b[1;33m.\u001b[0m\u001b[0mfillna\u001b[0m\u001b[1;33m(\u001b[0m\u001b[1;34m'river'\u001b[0m\u001b[1;33m)\u001b[0m\u001b[1;33m\u001b[0m\u001b[1;33m\u001b[0m\u001b[0m\n\u001b[0m",
      "\u001b[1;32mE:\\anaconda\\Lib\\site-packages\\pandas\\core\\generic.py\u001b[0m in \u001b[0;36m?\u001b[1;34m(self, name)\u001b[0m\n\u001b[0;32m   5985\u001b[0m             \u001b[1;32mand\u001b[0m \u001b[0mname\u001b[0m \u001b[1;32mnot\u001b[0m \u001b[1;32min\u001b[0m \u001b[0mself\u001b[0m\u001b[1;33m.\u001b[0m\u001b[0m_accessors\u001b[0m\u001b[1;33m\u001b[0m\u001b[1;33m\u001b[0m\u001b[0m\n\u001b[0;32m   5986\u001b[0m             \u001b[1;32mand\u001b[0m \u001b[0mself\u001b[0m\u001b[1;33m.\u001b[0m\u001b[0m_info_axis\u001b[0m\u001b[1;33m.\u001b[0m\u001b[0m_can_hold_identifiers_and_holds_name\u001b[0m\u001b[1;33m(\u001b[0m\u001b[0mname\u001b[0m\u001b[1;33m)\u001b[0m\u001b[1;33m\u001b[0m\u001b[1;33m\u001b[0m\u001b[0m\n\u001b[0;32m   5987\u001b[0m         ):\n\u001b[0;32m   5988\u001b[0m             \u001b[1;32mreturn\u001b[0m \u001b[0mself\u001b[0m\u001b[1;33m[\u001b[0m\u001b[0mname\u001b[0m\u001b[1;33m]\u001b[0m\u001b[1;33m\u001b[0m\u001b[1;33m\u001b[0m\u001b[0m\n\u001b[1;32m-> 5989\u001b[1;33m         \u001b[1;32mreturn\u001b[0m \u001b[0mobject\u001b[0m\u001b[1;33m.\u001b[0m\u001b[0m__getattribute__\u001b[0m\u001b[1;33m(\u001b[0m\u001b[0mself\u001b[0m\u001b[1;33m,\u001b[0m \u001b[0mname\u001b[0m\u001b[1;33m)\u001b[0m\u001b[1;33m\u001b[0m\u001b[1;33m\u001b[0m\u001b[0m\n\u001b[0m",
      "\u001b[1;31mAttributeError\u001b[0m: 'DataFrame' object has no attribute 'Waterbody_House_Price1'"
     ]
    }
   ],
   "source": [
    "# replace the null in thar column\n",
    "df_house_price.Waterbody_House_Price1.fillna('river')"
   ]
  },
  {
   "cell_type": "code",
   "execution_count": 42,
   "id": "9a38b818",
   "metadata": {},
   "outputs": [],
   "source": [
    "# IN number_OF_Hospital_bed less than 10% so we can drop the null value\n",
    "df_house_price.dropna(inplace=True)"
   ]
  },
  {
   "cell_type": "code",
   "execution_count": 43,
   "id": "a50ea627",
   "metadata": {},
   "outputs": [
    {
     "data": {
      "text/plain": [
       "Price                            0.0\n",
       "Residential_Area                 0.0\n",
       "Air_Quality                      0.0\n",
       "Room_Number                      0.0\n",
       "Age                              0.0\n",
       "Distance                         0.0\n",
       "Teachers                         0.0\n",
       "Proportion_of_poor_population    0.0\n",
       "Airport                          0.0\n",
       "Number_of_Hospital_beds          0.0\n",
       "Number_of_hotel_Rooms            0.0\n",
       "Waterbody                        0.0\n",
       "Rainfall                         0.0\n",
       "Bus_Terminal                     0.0\n",
       "Parks                            0.0\n",
       "SOLD                             0.0\n",
       "dtype: float64"
      ]
     },
     "execution_count": 43,
     "metadata": {},
     "output_type": "execute_result"
    }
   ],
   "source": [
    "# Percentage missing value\n",
    "round((df_house_price.isnull().sum())/len(df_house_price)*100,3)"
   ]
  },
  {
   "cell_type": "code",
   "execution_count": null,
   "id": "516494d5",
   "metadata": {},
   "outputs": [],
   "source": []
  }
 ],
 "metadata": {
  "kernelspec": {
   "display_name": "Python 3 (ipykernel)",
   "language": "python",
   "name": "python3"
  },
  "language_info": {
   "codemirror_mode": {
    "name": "ipython",
    "version": 3
   },
   "file_extension": ".py",
   "mimetype": "text/x-python",
   "name": "python",
   "nbconvert_exporter": "python",
   "pygments_lexer": "ipython3",
   "version": "3.11.5"
  }
 },
 "nbformat": 4,
 "nbformat_minor": 5
}
